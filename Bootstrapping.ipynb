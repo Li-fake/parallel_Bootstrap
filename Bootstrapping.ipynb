{
 "cells": [
  {
   "cell_type": "code",
   "execution_count": 1,
   "metadata": {
    "pycharm": {
     "is_executing": false
    }
   },
   "outputs": [],
   "source": [
    "#!pip install numpy\n",
    "#!pip install scipy\n",
    "#!pip install matplotlib\n",
    "\n",
    "import timeit\n",
    "from multiprocessing import Pool\n",
    "from typing import List, Any\n",
    "import numpy as np\n",
    "import matplotlib.pyplot as plt"
   ]
  },
  {
   "cell_type": "code",
   "execution_count": 2,
   "metadata": {
    "pycharm": {
     "is_executing": false
    }
   },
   "outputs": [],
   "source": [
    "# Non parallel bootstrapping\n",
    "## Create a sample of normal distribution\n",
    "sample_normal = np.random.normal(5, 1, 100)\n",
    "real_mean = sample_normal.mean()\n",
    "\n",
    "## Generate 100 samples with replacement\n",
    "samples_100 = [np.random.choice(sample_normal, 100) for x in range(0, 100)]\n",
    "samples_1000 = [np.random.choice(sample_normal, 100) for x in range(0, 1000)]\n",
    "\n",
    "## Estimate the mean for each sample\n",
    "mean_samples_100 = np.array([x.mean() for x in samples_100])\n",
    "mean_samples_1000 = np.array([x.mean() for x in samples_1000])"
   ]
  },
  {
   "cell_type": "code",
   "execution_count": 11,
   "metadata": {},
   "outputs": [
    {
     "data": {
      "image/png": "[encoded data removed]",
      "text/plain": [
       "<Figure size 432x288 with 1 Axes>"
      ]
     },
     "metadata": {
      "needs_background": "light"
     },
     "output_type": "display_data"
    }
   ],
   "source": [
    "bins = np.linspace(4.5, 5.5, 100)\n",
    "\n",
    "plt.hist(mean_samples_100, bins, alpha=0.5, label='Mean = ' + str(round(mean_samples_100.mean(), 3)))\n",
    "plt.hist(mean_samples_1000, bins, alpha=0.5, label='Mean = ' + str(round(mean_samples_1000.mean(), 3)))\n",
    "plt.legend(loc='upper right')\n",
    "plt.show()"
   ]
  },
  {
   "cell_type": "code",
   "execution_count": 3,
   "metadata": {},
   "outputs": [
    {
     "data": {
      "text/plain": [
       "93326215443944152681699238856266700490715968264381621468592963895217599993229915608941463976156518286253697920827223758251185210916864000000000000000000000000"
      ]
     },
     "execution_count": 3,
     "metadata": {},
     "output_type": "execute_result"
    }
   ],
   "source": [
    "from math import factorial\n",
    "factorial(100)"
   ]
  },
  {
   "cell_type": "code",
   "execution_count": 45,
   "metadata": {},
   "outputs": [],
   "source": [
    "sample_noNumpy = sampling(sample_normal, 1000, 100)\n",
    "result_noNumpy = bootstrap(sample_noNumpy, np.var)"
   ]
  },
  {
   "cell_type": "code",
   "execution_count": 5,
   "metadata": {
    "pycharm": {
     "is_executing": false
    }
   },
   "outputs": [],
   "source": [
    "# Non-parallel without Numpy\n",
    "## Function for samples\n",
    "def sampling(x, samples = 100, sample_size = 0):\n",
    "    \"\"\"\n",
    "    The sampling function extracts a number of samples from\n",
    "    the x object provided (preferably a list or numpy array).\n",
    "    It takes three arguments:\n",
    "    x = object to extract samples. Preferably a numpy array.\n",
    "    samples = number of samples to make. Default is 100.\n",
    "    sample_size = size of each sample extracted from x. \n",
    "    \"\"\"\n",
    "    if sample_size == 0:\n",
    "        sample_size = len(x)\n",
    "        \n",
    "    def extract(x):\n",
    "        return [x[i] for i in np.random.randint(0, len(x), sample_size)]\n",
    "    \n",
    "    return [extract(x) for _ in range(samples)]\n",
    "    \n",
    "def bootstrap(x: list, func):\n",
    "    \"\"\"\n",
    "    The boostrap function takes two argument:\n",
    "    x = a list created by the sampling function\n",
    "    func = the function to apply (ex. mean)\n",
    "    RETURN\n",
    "    returns a list of results from the applied\n",
    "    function to each sample of x\n",
    "    \"\"\"\n",
    "    return [func(z) for z in x]\n",
    "    \n",
    "    \n",
    "# Non-parallel with numpy\n",
    "## Function for samples\n",
    "def sampling_np(x, samples = 100, sample_size = 0):\n",
    "    \"\"\"\n",
    "    The sampling_np function uses numpy library to reduce the\n",
    "    running time. It takes three arguments for now:\n",
    "    x = object to extract samples. Preferably a numpy array.\n",
    "    samples = number of samples to make. Default is 100.\n",
    "    sample_size = size of each sample extracted from x.\n",
    "    RETURN \n",
    "    returns a list of samples (numpy arrays) \n",
    "    \"\"\"\n",
    "    if sample_size == 0:\n",
    "        sample_size = len(x)\n",
    "    \n",
    "    x = np.array(x)\n",
    "    \n",
    "    samples = [np.random.choice(x, sample_size) for _ in range(samples)]\n",
    "    \n",
    "    return samples\n",
    "\n",
    "## Function for applying function\n",
    "def bootstrap_np(x: list, func):\n",
    "    \"\"\"\n",
    "    The boostrap function takes two argument:\n",
    "    x = a list created by the sampling function\n",
    "    func = the function to apply (ex. mean)\n",
    "    RETURN\n",
    "    returns a list of results from the applied\n",
    "    function to each sample of x\n",
    "    \"\"\"\n",
    "    return [func(z) for z in x]\n",
    "\n",
    "# Parallel without Numpy\n",
    "## Function for samples\n",
    "def extract(sample_size, x):\n",
    "    return [x[i] for i in np.random.randint(0, len(x), sample_size)]\n",
    "\n",
    "def par_sampling(x, samples = 100, sample_size = 0, workers = 3):\n",
    "    \"\"\"\n",
    "    The sampling function extracts a number of samples from\n",
    "    the x object provided (preferably a list or numpy array).\n",
    "    It takes three arguments:\n",
    "    x = object to extract samples. Preferably a numpy array.\n",
    "    samples = number of samples to make. Default is 100.\n",
    "    sample_size = size of each sample extracted from x. \n",
    "    \"\"\"\n",
    "    from multiprocessing import Pool\n",
    "    from functools import partial\n",
    "    if sample_size == 0:\n",
    "        sample_size = len(x)\n",
    "    \n",
    "    ss_array = [sample_size for i in range(samples)]\n",
    "    # ss_div = [ss_array[i * workers:(i + 1) * workers] for i in range((len(ss_array) + workers - 1) // workers )]\n",
    "    \n",
    "    with Pool(processes = workers) as pool:\n",
    "        result = pool.map(partial(extract, x = x), ss_array)\n",
    "    \n",
    "    return result\n",
    "    \n",
    "def par_bootstrap(x: list, func, workers = 3):\n",
    "    \"\"\"\n",
    "    The boostrap function takes two argument:\n",
    "    x = a list created by the sampling function\n",
    "    func = the function to apply (ex. mean)\n",
    "    RETURN\n",
    "    returns a list of results from the applied\n",
    "    function to each sample of x\n",
    "    \"\"\"\n",
    "    from multiprocessing import Pool\n",
    "    with Pool(processes = workers) as pool:\n",
    "        result = pool.map(func, x)\n",
    "    return result\n",
    "    \n",
    "    \n",
    "\n",
    "# Parallel using Numpy\n",
    "## Function for samples\n",
    "def sample(sizes = 100):\n",
    "    return np.random.choice(sample_normal, sizes)\n",
    "\n",
    "def par_sampling_np(x, samples = 100, sample_size = 0, workers = 3):\n",
    "    \"\"\"\n",
    "    The sampling function takes three main arguments (for now):\n",
    "    x = object to extract samples. Preferably a numpy array.\n",
    "    samples = number of samples to make. Default is 100.\n",
    "    sample_size = size of each sample extracted from x.\n",
    "    RETURN \n",
    "    returns a list of samples (numpy arrays) \n",
    "    \"\"\"\n",
    "    from multiprocessing import Pool\n",
    "    if sample_size == 0:\n",
    "        sample_size = len(x)\n",
    "    \n",
    "    x = np.array(x)\n",
    "    ss_array = [sample_size for _ in range(samples)]\n",
    "    \n",
    "    with Pool(processes = workers) as pool:\n",
    "        samples = pool.map(sample, ss_array)\n",
    "    return samples\n",
    "\n",
    "## Function for applying function\n",
    "def par_bootstrap_np(x: list, func, workers = 3):\n",
    "    \"\"\"\n",
    "    The boostrap function takes two argument:\n",
    "    x = a list created by the sampling function\n",
    "    func = the function to apply (ex. mean)\n",
    "    RETURN\n",
    "    returns a list of results from the applied\n",
    "    function to each sample of x\n",
    "    \"\"\"\n",
    "    from multiprocessing import Pool\n",
    "    with Pool(processes = workers) as pool:\n",
    "        result = pool.map(func, x)\n",
    "    return result\n",
    "\n"
   ]
  },
  {
   "cell_type": "code",
   "execution_count": 46,
   "metadata": {},
   "outputs": [
    {
     "data": {
      "text/plain": [
       "(array([  1.,   1.,   3.,   5.,  14.,  26.,  36.,  57.,  67.,  77., 101.,\n",
       "        100.,  81.,  91.,  77.,  65.,  54.,  35.,  26.,  24.,  23.,  13.,\n",
       "          8.,   9.,   3.,   1.,   0.,   0.,   0.,   2.]),\n",
       " array([0.57990929, 0.61628462, 0.65265995, 0.68903528, 0.7254106 ,\n",
       "        0.76178593, 0.79816126, 0.83453659, 0.87091192, 0.90728725,\n",
       "        0.94366258, 0.9800379 , 1.01641323, 1.05278856, 1.08916389,\n",
       "        1.12553922, 1.16191455, 1.19828988, 1.2346652 , 1.27104053,\n",
       "        1.30741586, 1.34379119, 1.38016652, 1.41654185, 1.45291718,\n",
       "        1.4892925 , 1.52566783, 1.56204316, 1.59841849, 1.63479382,\n",
       "        1.67116915]),\n",
       " <a list of 30 Patch objects>)"
      ]
     },
     "execution_count": 46,
     "metadata": {},
     "output_type": "execute_result"
    },
    {
     "data": {
      "image/png": "[encoded data removed]",
      "text/plain": [
       "<Figure size 432x288 with 1 Axes>"
      ]
     },
     "metadata": {
      "needs_background": "light"
     },
     "output_type": "display_data"
    }
   ],
   "source": [
    "plt.hist(result_noNumpy, bins = 30)"
   ]
  },
  {
   "cell_type": "code",
   "execution_count": 26,
   "metadata": {
    "pycharm": {
     "is_executing": false,
     "name": "#%%\n"
    }
   },
   "outputs": [],
   "source": [
    "samples_100 = sampling(sample_normal, 100, 100)\n",
    "result_100 = bootstrap(samples_100, np.mean)"
   ]
  },
  {
   "cell_type": "code",
   "execution_count": 10,
   "metadata": {},
   "outputs": [],
   "source": [
    "a = np.empty(10).fill(100)\n",
    "a"
   ]
  },
  {
   "cell_type": "code",
   "execution_count": 7,
   "metadata": {
    "pycharm": {
     "is_executing": false
    }
   },
   "outputs": [],
   "source": [
    "## Bootstrap class\n",
    "class Bootstrap:\n",
    "    def __init__(self, x = np.array(100), size = 100, samples_size = 100):\n",
    "        self.x = x\n",
    "        self.size = size\n",
    "        self.samples_size = samples_size\n",
    "        self.samples = [np.random.choice(x, samples_size) for i in range(1, size)]\n",
    "        \n",
    "    def mean(self):\n",
    "        self.means = np.array([x.mean() for x in self.samples])\n",
    "        \n",
    "    def std(self):\n",
    "        self.stds = np.array([x.std() for x in self.samples])\n",
    "        "
   ]
  },
  {
   "cell_type": "code",
   "execution_count": 5,
   "metadata": {},
   "outputs": [
    {
     "name": "stdout",
     "output_type": "stream",
     "text": [
      "111 ms ± 126 µs per loop (mean ± std. dev. of 7 runs, 10 loops each)\n"
     ]
    }
   ],
   "source": [
    "%%timeit\n",
    "test = Bootstrap(sample_normal, size = 1000, samples_size = 100)"
   ]
  },
  {
   "cell_type": "code",
   "execution_count": 16,
   "metadata": {},
   "outputs": [],
   "source": [
    "test.mean()"
   ]
  },
  {
   "cell_type": "code",
   "execution_count": null,
   "metadata": {
    "pycharm": {
     "name": "#%%\n"
    }
   },
   "outputs": [],
   "source": [
    "plt.hist(test.means, bins = 25)"
   ]
  },
  {
   "cell_type": "code",
   "execution_count": 12,
   "metadata": {
    "pycharm": {
     "is_executing": false,
     "name": "#%%\n"
    }
   },
   "outputs": [],
   "source": [
    "## Parallel Bootstrap class\n",
    "def samp(x, samples_size):\n",
    "    return np.random.choice(x, samples_size)\n",
    "\n",
    "class ParBootstrap:\n",
    "    def __init__(self, x = np.array(100), size = 100, samples_size = 100, workers = 3):\n",
    "        self.x = x\n",
    "        self.size = size\n",
    "        self.samples_size = samples_size\n",
    "        self.workers = workers\n",
    "    \n",
    "    def sampling(self):\n",
    "        with Pool(processes = self.workers) as pool:\n",
    "            res = pool.starmap(samp, [(self.x, self.samples_size) for _ in range(self.size)])\n",
    "        self.samples = res\n",
    "        \n",
    "    def mean(self):\n",
    "        with Pool(processes = self.workers) as pool:\n",
    "            res = pool.map(np.mean, self.samples)\n",
    "        self.means = res\n",
    "        \n",
    "    def std(self):\n",
    "        with Pool(processes = self.workers) as pool:\n",
    "            res = pool.map(np.std, self.samples)\n",
    "        self.stds = res\n",
    "        \n",
    "        \n",
    "\n"
   ]
  },
  {
   "cell_type": "code",
   "execution_count": null,
   "metadata": {
    "pycharm": {
     "name": "#%%\n"
    }
   },
   "outputs": [],
   "source": []
  },
  {
   "cell_type": "code",
   "execution_count": 13,
   "metadata": {
    "pycharm": {
     "is_executing": false,
     "name": "#%%timeit -o result\n"
    }
   },
   "outputs": [],
   "source": [
    "test_p = ParBootstrap(sample_normal, size = 1000, samples_size = 100, workers = 3)\n",
    "test_p.sampling()"
   ]
  },
  {
   "cell_type": "code",
   "execution_count": 9,
   "metadata": {
    "pycharm": {
     "is_executing": false,
     "name": "#%%\n"
    }
   },
   "outputs": [],
   "source": [
    "test_p.sampling()"
   ]
  },
  {
   "cell_type": "code",
   "execution_count": 10,
   "metadata": {
    "pycharm": {
     "is_executing": false,
     "name": "#%%\n"
    }
   },
   "outputs": [],
   "source": [
    "test_p.mean()"
   ]
  },
  {
   "cell_type": "code",
   "execution_count": 11,
   "metadata": {
    "pycharm": {
     "is_executing": false,
     "name": "#%%\n"
    }
   },
   "outputs": [
    {
     "data": {
      "text/plain": [
       "(array([ 12.,  42.,  72., 134., 204., 231., 153.,  96.,  50.,   6.]),\n",
       " array([4.66106056, 4.72141396, 4.78176736, 4.84212076, 4.90247416,\n",
       "        4.96282756, 5.02318096, 5.08353436, 5.14388776, 5.20424116,\n",
       "        5.26459456]),\n",
       " <a list of 10 Patch objects>)"
      ]
     },
     "execution_count": 11,
     "metadata": {},
     "output_type": "execute_result"
    },
    {
     "data": {
      "image/png": "[encoded data removed]",
      "text/plain": [
       "<Figure size 432x288 with 1 Axes>"
      ]
     },
     "metadata": {
      "needs_background": "light"
     },
     "output_type": "display_data"
    }
   ],
   "source": [
    "plt.hist(test_p.means)"
   ]
  },
  {
   "cell_type": "code",
   "execution_count": null,
   "outputs": [],
   "source": [
    "benchmark = []\n",
    "\n",
    "s = '''\n",
    "sample_normal = np.random.normal(5, 1, 1000)\n",
    "test = Bootstrap(sample_normal, 100000, 100)\n",
    "test.mean()\n",
    "'''\n",
    "\n",
    "setup = '''\n",
    "import numpy as np\n",
    "from __main__ import Bootstrap\n",
    "'''\n",
    "\n",
    "\n",
    "s_par = '''\n",
    "sample_normal = np.random.normal(5, 1, 1000)\n",
    "test_p = ParBootstrap(sample_normal, size = 100000, samples_size = 100, workers = 2)\n",
    "test_p.sampling()\n",
    "test_p.mean()\n",
    "'''\n",
    "\n",
    "setup_par = '''\n",
    "from multiprocessing import Pool\n",
    "import numpy as np\n",
    "from __main__ import ParBootstrap\n",
    "'''\n",
    "\n",
    "benchmark.append(timeit.Timer(stmt = s, setup = setup).timeit(10))\n",
    "benchmark.append(timeit.Timer(stmt = s_par, setup = setup_par).timeit(10))"
   ],
   "metadata": {
    "collapsed": false,
    "pycharm": {
     "name": "#%%\n"
    }
   }
  },
  {
   "cell_type": "code",
   "execution_count": null,
   "outputs": [],
   "source": [
    "benchmark"
   ],
   "metadata": {
    "collapsed": false,
    "pycharm": {
     "name": "#%%\n"
    }
   }
  },
  {
   "cell_type": "code",
   "execution_count": null,
   "outputs": [],
   "source": [
    "benchmark = []\n",
    "\n",
    "s = '''\n",
    "sample_normal = np.random.normal(5, 1, 1000)\n",
    "test = sampling(sample_normal, 1000, 100)\n",
    "means_b = bootstrap(test, np.mean)\n",
    "'''\n",
    "\n",
    "setup = '''\n",
    "import numpy as np\n",
    "from __main__ import sampling, bootstrap\n",
    "'''\n",
    "\n",
    "\n",
    "s_np = '''\n",
    "sample_normal = np.random.normal(5, 1, 1000)\n",
    "test = sampling_np(sample_normal, 1000, 100)\n",
    "means_b = bootstrap_np(test, np.mean)\n",
    "'''\n",
    "\n",
    "setup_np = '''\n",
    "import numpy as np\n",
    "from __main__ import sampling_np, bootstrap_np\n",
    "'''\n",
    "\n",
    "\n",
    "s_par = '''\n",
    "sample_normal = np.random.normal(5, 1, 1000)\n",
    "test_p = par_sampling(sample_normal, 1000, 100, workers = 3)\n",
    "means_b = par_bootstrap(test_p, np.mean)\n",
    "'''\n",
    "\n",
    "setup_par = '''\n",
    "from multiprocessing import Pool\n",
    "from functools import partial\n",
    "import numpy as np\n",
    "from __main__ import par_sampling, par_bootstrap\n",
    "'''\n",
    "\n",
    "s_np_par = '''\n",
    "sample_normal = np.random.normal(5, 1, 1000)\n",
    "test_p = par_sampling_np(sample_normal, 1000, 100, workers = 3)\n",
    "means_b = par_bootstrap_np(test_p, np.mean)\n",
    "'''\n",
    "\n",
    "setup_np_par = '''\n",
    "from multiprocessing import Pool\n",
    "import numpy as np\n",
    "from __main__ import par_sampling_np, par_bootstrap_np\n",
    "'''\n",
    "\n",
    "benchmark.append(timeit.Timer(stmt = s, setup = setup).timeit(10))\n",
    "benchmark.append(timeit.Timer(stmt = s_np, setup = setup_np).timeit(10))\n",
    "benchmark.append(timeit.Timer(stmt = s_par, setup = setup_par).timeit(10))\n",
    "benchmark.append(timeit.Timer(stmt = s_np_par, setup = setup_np_par).timeit(10))\n",
    "\n",
    "benchmark"
   ],
   "metadata": {
    "collapsed": false,
    "pycharm": {
     "name": "#%%\n"
    }
   }
  },
  {
   "cell_type": "code",
   "execution_count": null,
   "outputs": [],
   "source": [
    "## Complete Bootstrapping NO parallel with Numpy\n",
    "def bootstrap(x, func, samples = 1000, sample_size = 100):\n",
    "    return [func(np.random.choice(x, sample_size)) for _ in range(1000)]\n",
    "\n",
    "## Complete Bootstrapping parallel with Numpy\n",
    "def bootstrap_complete(x, func, sample_size = 100):\n",
    "   return func(np.random.choice(x, sample_size)) \n",
    "\n",
    "# def collect_result(result):\n",
    "#     global results\n",
    "#     results.append(result)\n",
    "\n",
    "def bootstrap_par(x, func, samples = 1000, sample_size = 100):\n",
    "    from multiprocessing import Pool, cpu_count\n",
    "    results = []\n",
    "    with Pool(cpu_count()) as pool:\n",
    "        results = pool.starmap_async(bootstrap_complete, [(x, np.mean, sample_size) for _ in range(samples)]).get() \n",
    "        \n",
    "    pool.close()\n",
    "    return results"
   ],
   "metadata": {
    "collapsed": false,
    "pycharm": {
     "name": "#%%\n"
    }
   }
  },
  {
   "cell_type": "code",
   "execution_count": null,
   "outputs": [],
   "source": [
    "# Performance \n",
    "## Time\n",
    "\n",
    "s_np = '''\n",
    "sample_normal = np.random.normal(5, 1, 1000000)\n",
    "test = bootstrap(sample_normal, np.mean, 1000, 100)\n",
    "'''\n",
    "\n",
    "setup_np = '''\n",
    "import numpy as np\n",
    "from __main__ import bootstrap\n",
    "'''\n",
    "\n",
    "\n",
    "s_par = '''\n",
    "sample_normal = np.random.normal(5, 1, 1000000)\n",
    "test_p = bootstrap_par(sample_normal, np.mean, 1000, 100)\n",
    "'''\n",
    "\n",
    "setup_par = '''\n",
    "from multiprocessing import Pool\n",
    "import numpy as np\n",
    "from __main__ import bootstrap_par\n",
    "'''\n",
    "\n",
    "benchmark = []\n",
    "\n",
    "\n",
    "benchmark.append(timeit.Timer(stmt = s_np, setup = setup_np).timeit(10))\n",
    "benchmark.append(timeit.Timer(stmt = s_par, setup = setup_par).timeit(10))\n",
    "\n",
    "benchmark"
   ],
   "metadata": {
    "collapsed": false,
    "pycharm": {
     "name": "#%%\n"
    }
   }
  },
  {
   "cell_type": "code",
   "execution_count": 19,
   "metadata": {
    "pycharm": {
     "is_executing": false,
     "name": "#%%\n"
    }
   },
   "outputs": [],
   "source": [
    "# Performance \n",
    "## Time\n",
    "\n",
    "s_np = '''\n",
    "sample_normal = np.random.normal(5, 1, 1000000)\n",
    "test = bootstrap(sample_normal, np.mean, 1000, 100)\n",
    "'''\n",
    "\n",
    "setup_np = '''\n",
    "import numpy as np\n",
    "from __main__ import bootstrap\n",
    "'''\n",
    "\n",
    "\n",
    "s_par = '''\n",
    "sample_normal = np.random.normal(5, 1, 1000000)\n",
    "test_p = bootstrap_par(sample_normal, np.mean, 1000, 100)\n",
    "'''\n",
    "\n",
    "setup_par = '''\n",
    "from multiprocessing import Pool\n",
    "import numpy as np\n",
    "from __main__ import bootstrap_par\n",
    "'''\n",
    "\n",
    "benchmark = []\n",
    "\n",
    "\n",
    "benchmark.append(timeit.Timer(stmt = s_np, setup = setup_np).timeit(10))\n",
    "benchmark.append(timeit.Timer(stmt = s_par, setup = setup_par).timeit(10))\n",
    "\n",
    "benchmark"
   ]
  },
  {
   "cell_type": "code",
   "execution_count": 20,
   "metadata": {
    "pycharm": {
     "is_executing": false,
     "name": "#%%\n"
    }
   },
   "outputs": [
    {
     "data": {
      "text/plain": [
       "[12.559468209999977, 21.510267692999946]"
      ]
     },
     "execution_count": 20,
     "metadata": {},
     "output_type": "execute_result"
    }
   ],
   "source": [
    "benchmark"
   ]
  },
  {
   "cell_type": "code",
   "execution_count": 6,
   "metadata": {
    "pycharm": {
     "is_executing": false,
     "name": "#%%\n"
    }
   },
   "outputs": [
    {
     "data": {
      "text/plain": [
       "[2.5502394419163465,\n",
       " 1.4301844467408955,\n",
       " 20.851001802831888,\n",
       " 3.0922619393095374]"
      ]
     },
     "execution_count": 6,
     "metadata": {},
     "output_type": "execute_result"
    },
    {
     "data": {
      "text/plain": [
       "[2.5502394419163465,\n",
       " 1.4301844467408955,\n",
       " 20.851001802831888,\n",
       " 3.0922619393095374]"
      ]
     },
     "execution_count": 6,
     "metadata": {},
     "output_type": "execute_result"
    }
   ],
   "source": [
    "benchmark = []\n",
    "\n",
    "s = '''\n",
    "sample_normal = np.random.normal(5, 1, 1000)\n",
    "test = sampling(sample_normal, 1000, 100)\n",
    "means_b = bootstrap(test, np.mean)\n",
    "'''\n",
    "\n",
    "setup = '''\n",
    "import numpy as np\n",
    "from __main__ import sampling, bootstrap\n",
    "'''\n",
    "\n",
    "\n",
    "s_np = '''\n",
    "sample_normal = np.random.normal(5, 1, 1000)\n",
    "test = sampling_np(sample_normal, 1000, 100)\n",
    "means_b = bootstrap_np(test, np.mean)\n",
    "'''\n",
    "\n",
    "setup_np = '''\n",
    "import numpy as np\n",
    "from __main__ import sampling_np, bootstrap_np\n",
    "'''\n",
    "\n",
    "\n",
    "s_par = '''\n",
    "sample_normal = np.random.normal(5, 1, 1000)\n",
    "test_p = par_sampling(sample_normal, 1000, 100, workers = 3)\n",
    "means_b = par_bootstrap(test_p, np.mean)\n",
    "'''\n",
    "\n",
    "setup_par = '''\n",
    "from multiprocessing import Pool\n",
    "from functools import partial\n",
    "import numpy as np\n",
    "from __main__ import par_sampling, par_bootstrap\n",
    "'''\n",
    "\n",
    "s_np_par = '''\n",
    "sample_normal = np.random.normal(5, 1, 1000)\n",
    "test_p = par_sampling_np(sample_normal, 1000, 100, workers = 3)\n",
    "means_b = par_bootstrap_np(test_p, np.mean)\n",
    "'''\n",
    "\n",
    "setup_np_par = '''\n",
    "from multiprocessing import Pool\n",
    "import numpy as np\n",
    "from __main__ import par_sampling_np, par_bootstrap_np\n",
    "'''\n",
    "\n",
    "benchmark.append(timeit.Timer(stmt = s, setup = setup).timeit(10))\n",
    "benchmark.append(timeit.Timer(stmt = s_np, setup = setup_np).timeit(10))\n",
    "benchmark.append(timeit.Timer(stmt = s_par, setup = setup_par).timeit(10))\n",
    "benchmark.append(timeit.Timer(stmt = s_np_par, setup = setup_np_par).timeit(10))\n",
    "\n",
    "benchmark"
   ]
  },
  {
   "cell_type": "code",
   "execution_count": 27,
   "metadata": {},
   "outputs": [],
   "source": [
    "## Complete Bootstrapping NO parallel with Numpy\n",
    "def bootstrap(x, func, samples = 1000, sample_size = 100):\n",
    "    return [func(np.random.choice(x, sample_size)) for _ in range(1000)]\n",
    "\n",
    "## Complete Bootstrapping parallel with Numpy\n",
    "def bootstrap_complete(x, func, sample_size = 100):\n",
    "   return func(np.random.choice(x, sample_size)) \n",
    "\n",
    "# def collect_result(result):\n",
    "#     global results\n",
    "#     results.append(result)\n",
    "\n",
    "def bootstrap_par(x, func, samples = 1000, sample_size = 100):\n",
    "    from multiprocessing import Pool, cpu_count\n",
    "    results = []\n",
    "    with Pool(cpu_count()) as pool:\n",
    "        results = pool.starmap_async(bootstrap_complete, [(x, np.mean, sample_size) for _ in range(samples)]).get() \n",
    "        \n",
    "    pool.close()\n",
    "    return results"
   ]
  },
  {
   "cell_type": "code",
   "execution_count": 28,
   "metadata": {},
   "outputs": [
    {
     "data": {
      "text/plain": [
       "[2.627892238087952, 17.137862545903772]"
      ]
     },
     "execution_count": 28,
     "metadata": {},
     "output_type": "execute_result"
    },
    {
     "data": {
      "text/plain": [
       "[2.627892238087952, 17.137862545903772]"
      ]
     },
     "execution_count": 28,
     "metadata": {},
     "output_type": "execute_result"
    }
   ],
   "source": [
    "# Performance \n",
    "## Time\n",
    "\n",
    "s_np = '''\n",
    "sample_normal = np.random.normal(5, 1, 1000000)\n",
    "test = bootstrap(sample_normal, np.mean, 1000, 100)\n",
    "'''\n",
    "\n",
    "setup_np = '''\n",
    "import numpy as np\n",
    "from __main__ import bootstrap\n",
    "'''\n",
    "\n",
    "\n",
    "s_par = '''\n",
    "sample_normal = np.random.normal(5, 1, 1000000)\n",
    "test_p = bootstrap_par(sample_normal, np.mean, 1000, 100)\n",
    "'''\n",
    "\n",
    "setup_par = '''\n",
    "from multiprocessing import Pool\n",
    "import numpy as np\n",
    "from __main__ import bootstrap_par\n",
    "'''\n",
    "\n",
    "benchmark = []\n",
    "\n",
    "\n",
    "benchmark.append(timeit.Timer(stmt = s_np, setup = setup_np).timeit(10))\n",
    "benchmark.append(timeit.Timer(stmt = s_par, setup = setup_par).timeit(10))\n",
    "\n",
    "benchmark"
   ]
  }
 ],
 "metadata": {
  "kernelspec": {
   "display_name": "Python 3",
   "language": "python",
   "name": "python3"
  },
  "language_info": {
   "codemirror_mode": {
    "name": "ipython",
    "version": 3
   },
   "file_extension": ".py",
   "mimetype": "text/x-python",
   "name": "python",
   "nbconvert_exporter": "python",
   "pygments_lexer": "ipython3",
   "version": "3.7.3"
  },
  "pycharm": {
   "stem_cell": {
    "cell_type": "raw",
    "source": [],
    "metadata": {
     "collapsed": false
    }
   }
  }
 },
 "nbformat": 4,
 "nbformat_minor": 2
}