{
 "cells": [
  {
   "cell_type": "code",
   "execution_count": 1,
   "metadata": {
    "pycharm": {
     "is_executing": false
    }
   },
   "outputs": [],
   "source": [
    "#!pip install numpy\n",
    "#!pip install scipy\n",
    "#!pip install matplotlib\n",
    "\n",
    "import timeit\n",
    "from multiprocessing import Pool\n",
    "from typing import List, Any\n",
    "import numpy as np\n",
    "import matplotlib.pyplot as plt"
   ]
  },
  {
   "cell_type": "code",
   "execution_count": 3,
   "metadata": {
    "pycharm": {
     "is_executing": false
    }
   },
   "outputs": [],
   "source": [
    "# Non parallel bootstrapping\n",
    "## Create a sample of normal distribution\n",
    "sample_normal = np.random.normal(5, 1, 100)\n",
    "real_mean = sample_normal.mean()\n",
    "\n",
    "## Generate 100 samples with replacement\n",
    "samples_100 = [np.random.choice(sample_normal, 100) for x in range(0, 100)]\n",
    "samples_1000 = [np.random.choice(sample_normal, 100) for x in range(0, 1000)]\n",
    "\n",
    "## Estimate the mean for each sample\n",
    "mean_samples_100 = np.array([x.mean() for x in samples_100])\n",
    "mean_samples_1000 = np.array([x.mean() for x in samples_1000])"
   ]
  },
  {
   "cell_type": "code",
   "execution_count": 11,
   "metadata": {},
   "outputs": [
    {
     "data": {
      "image/png": "[encoded data removed]",
      "text/plain": [
       "<Figure size 432x288 with 1 Axes>"
      ]
     },
     "metadata": {
      "needs_background": "light"
     },
     "output_type": "display_data"
    }
   ],
   "source": [
    "bins = np.linspace(4.5, 5.5, 100)\n",
    "\n",
    "plt.hist(mean_samples_100, bins, alpha=0.5, label='Mean = ' + str(round(mean_samples_100.mean(), 3)))\n",
    "plt.hist(mean_samples_1000, bins, alpha=0.5, label='Mean = ' + str(round(mean_samples_1000.mean(), 3)))\n",
    "plt.legend(loc='upper right')\n",
    "plt.show()"
   ]
  },
  {
   "cell_type": "code",
   "execution_count": 3,
   "metadata": {},
   "outputs": [
    {
     "data": {
      "text/plain": [
       "93326215443944152681699238856266700490715968264381621468592963895217599993229915608941463976156518286253697920827223758251185210916864000000000000000000000000"
      ]
     },
     "execution_count": 3,
     "metadata": {},
     "output_type": "execute_result"
    }
   ],
   "source": [
    "from math import factorial\n",
    "factorial(100)"
   ]
  },
  {
   "cell_type": "code",
   "execution_count": 12,
   "metadata": {
    "pycharm": {
     "is_executing": false
    }
   },
   "outputs": [],
   "source": [
    "# Non-parallel\n",
    "## Function for samples\n",
    "def sampling(x, samples = 100, sample_size = 0):\n",
    "    \"\"\"\n",
    "    The sampling function takes three main arguments (for now):\n",
    "    x = object to extract samples. Preferably a numpy array.\n",
    "    samples = number of samples to make. Default is 100.\n",
    "    sample_size = size of each sample extracted from x.\n",
    "    RETURN \n",
    "    returns a list of samples (numpy arrays) \n",
    "    \"\"\"\n",
    "    if sample_size == 0:\n",
    "        sample_size = len(x)\n",
    "    \n",
    "    x = np.array(x)\n",
    "    \n",
    "    samples = [np.random.choice(x, sample_size) for _ in range(samples)]\n",
    "    \n",
    "    return samples\n",
    "\n",
    "## Function for applying function\n",
    "def bootstrap(x: list, func):\n",
    "    \"\"\"\n",
    "    The boostrap function takes two argument:\n",
    "    x = a list created by the sampling function\n",
    "    func = the function to apply (ex. mean)\n",
    "    RETURN\n",
    "    returns a list of results from the applied\n",
    "    function to each sample of x\n",
    "    \"\"\"\n",
    "    return [func(z) for z in x]\n",
    "\n",
    "# Parallel\n",
    "## Function for samples\n",
    "def sample(sizes = 100):\n",
    "    return np.random.choice(sample_normal, sizes)\n",
    "\n",
    "def par_sampling(x, samples = 100, sample_size = 0, workers = 4):\n",
    "    \"\"\"\n",
    "    The sampling function takes three main arguments (for now):\n",
    "    x = object to extract samples. Preferably a numpy array.\n",
    "    samples = number of samples to make. Default is 100.\n",
    "    sample_size = size of each sample extracted from x.\n",
    "    RETURN \n",
    "    returns a list of samples (numpy arrays) \n",
    "    \"\"\"\n",
    "    from multiprocessing import Pool\n",
    "    if sample_size == 0:\n",
    "        sample_size = len(x)\n",
    "    \n",
    "    x = np.array(x)\n",
    "    \n",
    "    with Pool(processes = workers) as pool:\n",
    "        samples = pool.map_async(sample, [100 for _ in range(samples)])\n",
    "    return samples\n",
    "\n",
    "## Function for applying function\n",
    "def par_bootstrap(x: list, func, workers = 4):\n",
    "    \"\"\"\n",
    "    The boostrap function takes two argument:\n",
    "    x = a list created by the sampling function\n",
    "    func = the function to apply (ex. mean)\n",
    "    RETURN\n",
    "    returns a list of results from the applied\n",
    "    function to each sample of x\n",
    "    \"\"\"\n",
    "    from multiprocessing import Pool\n",
    "    with Pool(processes = workers) as pool:\n",
    "        result = pool.map(func, x)\n",
    "    return result\n",
    "\n"
   ]
  },
  {
   "cell_type": "code",
   "execution_count": 26,
   "outputs": [],
   "source": [
    "samples_100 = sampling(sample_normal, 100, 100)\n",
    "result_100 = bootstrap(samples_100, np.mean)"
   ],
   "metadata": {
    "collapsed": false,
    "pycharm": {
     "name": "#%%\n",
     "is_executing": false
    }
   }
  },
  {
   "cell_type": "code",
   "execution_count": 7,
   "metadata": {
    "pycharm": {
     "is_executing": false
    }
   },
   "outputs": [],
   "source": [
    "## Bootstrap class\n",
    "class Bootstrap:\n",
    "    def __init__(self, x = np.array(100), size = 100, samples_size = 100):\n",
    "        self.x = x\n",
    "        self.size = size\n",
    "        self.samples_size = samples_size\n",
    "        self.samples = [np.random.choice(x, samples_size) for i in range(1, size)]\n",
    "        \n",
    "    def mean(self):\n",
    "        self.means = np.array([x.mean() for x in self.samples])\n",
    "        \n",
    "    def std(self):\n",
    "        self.stds = np.array([x.std() for x in self.samples])\n",
    "        "
   ]
  },
  {
   "cell_type": "code",
   "execution_count": 5,
   "metadata": {},
   "outputs": [
    {
     "name": "stdout",
     "output_type": "stream",
     "text": [
      "111 ms ± 126 µs per loop (mean ± std. dev. of 7 runs, 10 loops each)\n"
     ]
    }
   ],
   "source": [
    "%%timeit\n",
    "test = Bootstrap(sample_normal, size = 1000, samples_size = 100)"
   ]
  },
  {
   "cell_type": "code",
   "execution_count": 16,
   "metadata": {},
   "outputs": [],
   "source": [
    "test.mean()"
   ]
  },
  {
   "cell_type": "code",
   "execution_count": null,
   "outputs": [],
   "source": [
    "plt.hist(test.means, bins = 25)"
   ],
   "metadata": {
    "collapsed": false,
    "pycharm": {
     "name": "#%%\n"
    }
   }
  },
  {
   "cell_type": "code",
   "execution_count": 12,
   "outputs": [],
   "source": [
    "## Parallel Bootstrap class\n",
    "def samp(x, samples_size):\n",
    "    return np.random.choice(x, samples_size)\n",
    "\n",
    "class ParBootstrap:\n",
    "    def __init__(self, x = np.array(100), size = 100, samples_size = 100, workers = 3):\n",
    "        self.x = x\n",
    "        self.size = size\n",
    "        self.samples_size = samples_size\n",
    "        self.workers = workers\n",
    "    \n",
    "    def sampling(self):\n",
    "        with Pool(processes = self.workers) as pool:\n",
    "            res = pool.starmap(samp, [(self.x, self.samples_size) for _ in range(self.size)])\n",
    "        self.samples = res\n",
    "        \n",
    "    def mean(self):\n",
    "        with Pool(processes = self.workers) as pool:\n",
    "            res = pool.map(np.mean, self.samples)\n",
    "        self.means = res\n",
    "        \n",
    "    def std(self):\n",
    "        with Pool(processes = self.workers) as pool:\n",
    "            res = pool.map(np.std, self.samples)\n",
    "        self.stds = res\n",
    "        \n",
    "        \n",
    "\n"
   ],
   "metadata": {
    "collapsed": false,
    "pycharm": {
     "name": "#%%\n",
     "is_executing": false
    }
   }
  },
  {
   "cell_type": "code",
   "execution_count": null,
   "outputs": [],
   "source": [],
   "metadata": {
    "collapsed": false,
    "pycharm": {
     "name": "#%%\n"
    }
   }
  },
  {
   "cell_type": "code",
   "execution_count": 13,
   "outputs": [],
   "source": [
    "test_p = ParBootstrap(sample_normal, size = 1000, samples_size = 100, workers = 3)\n",
    "test_p.sampling()"
   ],
   "metadata": {
    "collapsed": false,
    "pycharm": {
     "name": "#%%timeit -o result\n",
     "is_executing": false
    }
   }
  },
  {
   "cell_type": "code",
   "execution_count": 9,
   "outputs": [],
   "source": [
    "test_p.sampling()"
   ],
   "metadata": {
    "collapsed": false,
    "pycharm": {
     "name": "#%%\n",
     "is_executing": false
    }
   }
  },
  {
   "cell_type": "code",
   "execution_count": 10,
   "outputs": [],
   "source": [
    "test_p.mean()"
   ],
   "metadata": {
    "collapsed": false,
    "pycharm": {
     "name": "#%%\n",
     "is_executing": false
    }
   }
  },
  {
   "cell_type": "code",
   "execution_count": 11,
   "outputs": [
    {
     "data": {
      "text/plain": "(array([ 12.,  42.,  72., 134., 204., 231., 153.,  96.,  50.,   6.]),\n array([4.66106056, 4.72141396, 4.78176736, 4.84212076, 4.90247416,\n        4.96282756, 5.02318096, 5.08353436, 5.14388776, 5.20424116,\n        5.26459456]),\n <a list of 10 Patch objects>)"
     },
     "metadata": {},
     "output_type": "execute_result",
     "execution_count": 11
    },
    {
     "data": {
      "text/plain": "<Figure size 432x288 with 1 Axes>",
      "image/png": "[encoded data removed]"
     },
     "metadata": {
      "needs_background": "light"
     },
     "output_type": "display_data"
    }
   ],
   "source": [
    "plt.hist(test_p.means)"
   ],
   "metadata": {
    "collapsed": false,
    "pycharm": {
     "name": "#%%\n",
     "is_executing": false
    }
   }
  },
  {
   "cell_type": "code",
   "execution_count": 19,
   "outputs": [],
   "source": [
    "benchmark = []\n",
    "\n",
    "s = '''\n",
    "sample_normal = np.random.normal(5, 1, 1000)\n",
    "test = Bootstrap(sample_normal, 100000, 100)\n",
    "test.mean()\n",
    "'''\n",
    "\n",
    "setup = '''\n",
    "import numpy as np\n",
    "from __main__ import Bootstrap\n",
    "'''\n",
    "\n",
    "\n",
    "s_par = '''\n",
    "sample_normal = np.random.normal(5, 1, 1000)\n",
    "test_p = ParBootstrap(sample_normal, size = 100000, samples_size = 100, workers = 2)\n",
    "test_p.sampling()\n",
    "test_p.mean()\n",
    "'''\n",
    "\n",
    "setup_par = '''\n",
    "from multiprocessing import Pool\n",
    "import numpy as np\n",
    "from __main__ import ParBootstrap\n",
    "'''\n",
    "\n",
    "benchmark.append(timeit.Timer(stmt = s, setup = setup).timeit(10))\n",
    "benchmark.append(timeit.Timer(stmt = s_par, setup = setup_par).timeit(10))"
   ],
   "metadata": {
    "collapsed": false,
    "pycharm": {
     "name": "#%%\n",
     "is_executing": false
    }
   }
  },
  {
   "cell_type": "code",
   "execution_count": 20,
   "outputs": [
    {
     "data": {
      "text/plain": "[12.559468209999977, 21.510267692999946]"
     },
     "metadata": {},
     "output_type": "execute_result",
     "execution_count": 20
    }
   ],
   "source": [
    "benchmark"
   ],
   "metadata": {
    "collapsed": false,
    "pycharm": {
     "name": "#%%\n",
     "is_executing": false
    }
   }
  },
  {
   "cell_type": "code",
   "execution_count": 13,
   "outputs": [
    {
     "traceback": [
      "\u001b[0;31m---------------------------------------------------------------------------\u001b[0m",
      "\u001b[0;31mTypeError\u001b[0m                                 Traceback (most recent call last)",
      "\u001b[0;32m<ipython-input-13-1e4726e1d101>\u001b[0m in \u001b[0;36m<module>\u001b[0;34m\u001b[0m\n\u001b[1;32m     26\u001b[0m \u001b[0;34m\u001b[0m\u001b[0m\n\u001b[1;32m     27\u001b[0m \u001b[0mbenchmark\u001b[0m\u001b[0;34m.\u001b[0m\u001b[0mappend\u001b[0m\u001b[0;34m(\u001b[0m\u001b[0mtimeit\u001b[0m\u001b[0;34m.\u001b[0m\u001b[0mTimer\u001b[0m\u001b[0;34m(\u001b[0m\u001b[0mstmt\u001b[0m \u001b[0;34m=\u001b[0m \u001b[0ms\u001b[0m\u001b[0;34m,\u001b[0m \u001b[0msetup\u001b[0m \u001b[0;34m=\u001b[0m \u001b[0msetup\u001b[0m\u001b[0;34m)\u001b[0m\u001b[0;34m.\u001b[0m\u001b[0mtimeit\u001b[0m\u001b[0;34m(\u001b[0m\u001b[0;36m10\u001b[0m\u001b[0;34m)\u001b[0m\u001b[0;34m)\u001b[0m\u001b[0;34m\u001b[0m\u001b[0;34m\u001b[0m\u001b[0m\n\u001b[0;32m---> 28\u001b[0;31m \u001b[0mbenchmark\u001b[0m\u001b[0;34m.\u001b[0m\u001b[0mappend\u001b[0m\u001b[0;34m(\u001b[0m\u001b[0mtimeit\u001b[0m\u001b[0;34m.\u001b[0m\u001b[0mTimer\u001b[0m\u001b[0;34m(\u001b[0m\u001b[0mstmt\u001b[0m \u001b[0;34m=\u001b[0m \u001b[0ms_par\u001b[0m\u001b[0;34m,\u001b[0m \u001b[0msetup\u001b[0m \u001b[0;34m=\u001b[0m \u001b[0msetup_par\u001b[0m\u001b[0;34m)\u001b[0m\u001b[0;34m.\u001b[0m\u001b[0mtimeit\u001b[0m\u001b[0;34m(\u001b[0m\u001b[0;36m10\u001b[0m\u001b[0;34m)\u001b[0m\u001b[0;34m)\u001b[0m\u001b[0;34m\u001b[0m\u001b[0;34m\u001b[0m\u001b[0m\n\u001b[0m\u001b[1;32m     29\u001b[0m \u001b[0;34m\u001b[0m\u001b[0m\n\u001b[1;32m     30\u001b[0m \u001b[0mbenchmark\u001b[0m\u001b[0;34m\u001b[0m\u001b[0;34m\u001b[0m\u001b[0m\n",
      "\u001b[0;32m~/miniconda3/lib/python3.7/timeit.py\u001b[0m in \u001b[0;36mtimeit\u001b[0;34m(self, number)\u001b[0m\n\u001b[1;32m    174\u001b[0m         \u001b[0mgc\u001b[0m\u001b[0;34m.\u001b[0m\u001b[0mdisable\u001b[0m\u001b[0;34m(\u001b[0m\u001b[0;34m)\u001b[0m\u001b[0;34m\u001b[0m\u001b[0;34m\u001b[0m\u001b[0m\n\u001b[1;32m    175\u001b[0m         \u001b[0;32mtry\u001b[0m\u001b[0;34m:\u001b[0m\u001b[0;34m\u001b[0m\u001b[0;34m\u001b[0m\u001b[0m\n\u001b[0;32m--> 176\u001b[0;31m             \u001b[0mtiming\u001b[0m \u001b[0;34m=\u001b[0m \u001b[0mself\u001b[0m\u001b[0;34m.\u001b[0m\u001b[0minner\u001b[0m\u001b[0;34m(\u001b[0m\u001b[0mit\u001b[0m\u001b[0;34m,\u001b[0m \u001b[0mself\u001b[0m\u001b[0;34m.\u001b[0m\u001b[0mtimer\u001b[0m\u001b[0;34m)\u001b[0m\u001b[0;34m\u001b[0m\u001b[0;34m\u001b[0m\u001b[0m\n\u001b[0m\u001b[1;32m    177\u001b[0m         \u001b[0;32mfinally\u001b[0m\u001b[0;34m:\u001b[0m\u001b[0;34m\u001b[0m\u001b[0;34m\u001b[0m\u001b[0m\n\u001b[1;32m    178\u001b[0m             \u001b[0;32mif\u001b[0m \u001b[0mgcold\u001b[0m\u001b[0;34m:\u001b[0m\u001b[0;34m\u001b[0m\u001b[0;34m\u001b[0m\u001b[0m\n",
      "\u001b[0;32m~/miniconda3/lib/python3.7/timeit.py\u001b[0m in \u001b[0;36minner\u001b[0;34m(_it, _timer)\u001b[0m\n",
      "\u001b[0;32m<ipython-input-12-7454d5b8b198>\u001b[0m in \u001b[0;36mpar_bootstrap\u001b[0;34m(x, func, workers)\u001b[0m\n\u001b[1;32m     67\u001b[0m     \u001b[0;32mfrom\u001b[0m \u001b[0mmultiprocessing\u001b[0m \u001b[0;32mimport\u001b[0m \u001b[0mPool\u001b[0m\u001b[0;34m\u001b[0m\u001b[0;34m\u001b[0m\u001b[0m\n\u001b[1;32m     68\u001b[0m     \u001b[0;32mwith\u001b[0m \u001b[0mPool\u001b[0m\u001b[0;34m(\u001b[0m\u001b[0mprocesses\u001b[0m \u001b[0;34m=\u001b[0m \u001b[0mworkers\u001b[0m\u001b[0;34m)\u001b[0m \u001b[0;32mas\u001b[0m \u001b[0mpool\u001b[0m\u001b[0;34m:\u001b[0m\u001b[0;34m\u001b[0m\u001b[0;34m\u001b[0m\u001b[0m\n\u001b[0;32m---> 69\u001b[0;31m         \u001b[0mresult\u001b[0m \u001b[0;34m=\u001b[0m \u001b[0mpool\u001b[0m\u001b[0;34m.\u001b[0m\u001b[0mmap\u001b[0m\u001b[0;34m(\u001b[0m\u001b[0mfunc\u001b[0m\u001b[0;34m,\u001b[0m \u001b[0mx\u001b[0m\u001b[0;34m)\u001b[0m\u001b[0;34m\u001b[0m\u001b[0;34m\u001b[0m\u001b[0m\n\u001b[0m\u001b[1;32m     70\u001b[0m     \u001b[0;32mreturn\u001b[0m \u001b[0mresult\u001b[0m\u001b[0;34m\u001b[0m\u001b[0;34m\u001b[0m\u001b[0m\n\u001b[1;32m     71\u001b[0m \u001b[0;34m\u001b[0m\u001b[0m\n",
      "\u001b[0;32m~/miniconda3/lib/python3.7/multiprocessing/pool.py\u001b[0m in \u001b[0;36mmap\u001b[0;34m(self, func, iterable, chunksize)\u001b[0m\n\u001b[1;32m    266\u001b[0m         \u001b[0;32min\u001b[0m \u001b[0ma\u001b[0m \u001b[0mlist\u001b[0m \u001b[0mthat\u001b[0m \u001b[0;32mis\u001b[0m \u001b[0mreturned\u001b[0m\u001b[0;34m.\u001b[0m\u001b[0;34m\u001b[0m\u001b[0;34m\u001b[0m\u001b[0m\n\u001b[1;32m    267\u001b[0m         '''\n\u001b[0;32m--> 268\u001b[0;31m         \u001b[0;32mreturn\u001b[0m \u001b[0mself\u001b[0m\u001b[0;34m.\u001b[0m\u001b[0m_map_async\u001b[0m\u001b[0;34m(\u001b[0m\u001b[0mfunc\u001b[0m\u001b[0;34m,\u001b[0m \u001b[0miterable\u001b[0m\u001b[0;34m,\u001b[0m \u001b[0mmapstar\u001b[0m\u001b[0;34m,\u001b[0m \u001b[0mchunksize\u001b[0m\u001b[0;34m)\u001b[0m\u001b[0;34m.\u001b[0m\u001b[0mget\u001b[0m\u001b[0;34m(\u001b[0m\u001b[0;34m)\u001b[0m\u001b[0;34m\u001b[0m\u001b[0;34m\u001b[0m\u001b[0m\n\u001b[0m\u001b[1;32m    269\u001b[0m \u001b[0;34m\u001b[0m\u001b[0m\n\u001b[1;32m    270\u001b[0m     \u001b[0;32mdef\u001b[0m \u001b[0mstarmap\u001b[0m\u001b[0;34m(\u001b[0m\u001b[0mself\u001b[0m\u001b[0;34m,\u001b[0m \u001b[0mfunc\u001b[0m\u001b[0;34m,\u001b[0m \u001b[0miterable\u001b[0m\u001b[0;34m,\u001b[0m \u001b[0mchunksize\u001b[0m\u001b[0;34m=\u001b[0m\u001b[0;32mNone\u001b[0m\u001b[0;34m)\u001b[0m\u001b[0;34m:\u001b[0m\u001b[0;34m\u001b[0m\u001b[0;34m\u001b[0m\u001b[0m\n",
      "\u001b[0;32m~/miniconda3/lib/python3.7/multiprocessing/pool.py\u001b[0m in \u001b[0;36m_map_async\u001b[0;34m(self, func, iterable, mapper, chunksize, callback, error_callback)\u001b[0m\n\u001b[1;32m    381\u001b[0m             \u001b[0;32mraise\u001b[0m \u001b[0mValueError\u001b[0m\u001b[0;34m(\u001b[0m\u001b[0;34m\"Pool not running\"\u001b[0m\u001b[0;34m)\u001b[0m\u001b[0;34m\u001b[0m\u001b[0;34m\u001b[0m\u001b[0m\n\u001b[1;32m    382\u001b[0m         \u001b[0;32mif\u001b[0m \u001b[0;32mnot\u001b[0m \u001b[0mhasattr\u001b[0m\u001b[0;34m(\u001b[0m\u001b[0miterable\u001b[0m\u001b[0;34m,\u001b[0m \u001b[0;34m'__len__'\u001b[0m\u001b[0;34m)\u001b[0m\u001b[0;34m:\u001b[0m\u001b[0;34m\u001b[0m\u001b[0;34m\u001b[0m\u001b[0m\n\u001b[0;32m--> 383\u001b[0;31m             \u001b[0miterable\u001b[0m \u001b[0;34m=\u001b[0m \u001b[0mlist\u001b[0m\u001b[0;34m(\u001b[0m\u001b[0miterable\u001b[0m\u001b[0;34m)\u001b[0m\u001b[0;34m\u001b[0m\u001b[0;34m\u001b[0m\u001b[0m\n\u001b[0m\u001b[1;32m    384\u001b[0m \u001b[0;34m\u001b[0m\u001b[0m\n\u001b[1;32m    385\u001b[0m         \u001b[0;32mif\u001b[0m \u001b[0mchunksize\u001b[0m \u001b[0;32mis\u001b[0m \u001b[0;32mNone\u001b[0m\u001b[0;34m:\u001b[0m\u001b[0;34m\u001b[0m\u001b[0;34m\u001b[0m\u001b[0m\n",
      "\u001b[0;31mTypeError\u001b[0m: 'MapResult' object is not iterable"
     ],
     "ename": "TypeError",
     "evalue": "'MapResult' object is not iterable",
     "output_type": "error"
    }
   ],
   "source": [
    "benchmark = []\n",
    "\n",
    "s = '''\n",
    "sample_normal = np.random.normal(5, 1, 1000)\n",
    "test = sampling(sample_normal, 1000, 100)\n",
    "means_b = bootstrap(test, np.mean)\n",
    "'''\n",
    "\n",
    "setup = '''\n",
    "import numpy as np\n",
    "from __main__ import sampling, bootstrap\n",
    "'''\n",
    "\n",
    "\n",
    "s_par = '''\n",
    "sample_normal = np.random.normal(5, 1, 1000)\n",
    "test_p = par_sampling(sample_normal, 1000, 100, workers = 4)\n",
    "means_b = par_bootstrap(test_p, np.mean)\n",
    "'''\n",
    "\n",
    "setup_par = '''\n",
    "from multiprocessing import Pool\n",
    "import numpy as np\n",
    "from __main__ import par_sampling, par_bootstrap\n",
    "'''\n",
    "\n",
    "benchmark.append(timeit.Timer(stmt = s, setup = setup).timeit(10))\n",
    "benchmark.append(timeit.Timer(stmt = s_par, setup = setup_par).timeit(10))\n",
    "\n",
    "benchmark"
   ],
   "metadata": {
    "collapsed": false,
    "pycharm": {
     "name": "#%%\n",
     "is_executing": false
    }
   }
  }
 ],
 "metadata": {
  "kernelspec": {
   "display_name": "Python 3",
   "language": "python",
   "name": "python3"
  },
  "language_info": {
   "codemirror_mode": {
    "name": "ipython",
    "version": 3
   },
   "file_extension": ".py",
   "mimetype": "text/x-python",
   "name": "python",
   "nbconvert_exporter": "python",
   "pygments_lexer": "ipython3",
   "version": "3.7.3"
  },
  "pycharm": {
   "stem_cell": {
    "cell_type": "raw",
    "source": [],
    "metadata": {
     "collapsed": false
    }
   }
  }
 },
 "nbformat": 4,
 "nbformat_minor": 2
}